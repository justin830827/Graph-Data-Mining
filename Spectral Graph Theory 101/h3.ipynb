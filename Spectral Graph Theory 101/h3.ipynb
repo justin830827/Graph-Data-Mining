{
 "cells": [
  {
   "cell_type": "markdown",
   "metadata": {},
   "source": [
    "**Put any package imports you need in the below space**"
   ]
  },
  {
   "cell_type": "code",
   "execution_count": 94,
   "metadata": {},
   "outputs": [],
   "source": [
    "from igraph import *\n",
    "import matplotlib.pyplot as plt\n",
    "import numpy as np"
   ]
  },
  {
   "cell_type": "markdown",
   "metadata": {},
   "source": [
    "**Exercise 1**: Generating the adjacency matrix A for graphs of particular type. Write a script that generates the adjacency matrix A for each of the following graphs and prints this matrix onto the screen:"
   ]
  },
  {
   "cell_type": "markdown",
   "metadata": {},
   "source": [
    "1. K5: 5-clique, or a fully connected simple, undirected graph of 5 nodes"
   ]
  },
  {
   "cell_type": "code",
   "execution_count": 95,
   "metadata": {},
   "outputs": [
    {
     "data": {
      "text/plain": [
       "Matrix([[0, 1, 1, 1, 1], [1, 0, 1, 1, 1], [1, 1, 0, 1, 1], [1, 1, 1, 0, 1], [1, 1, 1, 1, 0]])"
      ]
     },
     "execution_count": 95,
     "metadata": {},
     "output_type": "execute_result"
    }
   ],
   "source": [
    "K5 = Graph.Full(5)\n",
    "K5.get_adjacency()"
   ]
  },
  {
   "cell_type": "markdown",
   "metadata": {},
   "source": [
    "2. K5.3: two disconnected components, C1 and C2, where C1 is a 5-clique K5 and C2 is a 3-clique K3"
   ]
  },
  {
   "cell_type": "code",
   "execution_count": 96,
   "metadata": {},
   "outputs": [
    {
     "data": {
      "text/plain": [
       "Matrix([[0, 1, 1, 1, 1, 0, 0, 0], [1, 0, 1, 1, 1, 0, 0, 0], [1, 1, 0, 1, 1, 0, 0, 0], [1, 1, 1, 0, 1, 0, 0, 0], [1, 1, 1, 1, 0, 0, 0, 0], [0, 0, 0, 0, 0, 0, 1, 1], [0, 0, 0, 0, 0, 1, 0, 1], [0, 0, 0, 0, 0, 1, 1, 0]])"
      ]
     },
     "execution_count": 96,
     "metadata": {},
     "output_type": "execute_result"
    }
   ],
   "source": [
    "K3 = Graph.Full(3)\n",
    "K5_3 = K5 + K3\n",
    "K5_3.get_adjacency()"
   ]
  },
  {
   "cell_type": "markdown",
   "metadata": {},
   "source": [
    "3. K5.3e: Almost the same as K53 but there is a single edge connecting the two components"
   ]
  },
  {
   "cell_type": "code",
   "execution_count": 97,
   "metadata": {},
   "outputs": [
    {
     "data": {
      "text/plain": [
       "Matrix([[0, 1, 1, 1, 1, 0, 0, 0], [1, 0, 1, 1, 1, 0, 0, 0], [1, 1, 0, 1, 1, 0, 0, 0], [1, 1, 1, 0, 1, 0, 0, 0], [1, 1, 1, 1, 0, 1, 0, 0], [0, 0, 0, 0, 1, 0, 1, 1], [0, 0, 0, 0, 0, 1, 0, 1], [0, 0, 0, 0, 0, 1, 1, 0]])"
      ]
     },
     "execution_count": 97,
     "metadata": {},
     "output_type": "execute_result"
    }
   ],
   "source": [
    "K5_3e = K5 + K3\n",
    "K5_3e.add_edge(4,5)\n",
    "K5_3e.get_adjacency()"
   ]
  },
  {
   "cell_type": "markdown",
   "metadata": {},
   "source": [
    "4. B2.3: Complete bi-partite graph with n1=2 nodes in the first part and n2=3 nodes in the second part"
   ]
  },
  {
   "cell_type": "code",
   "execution_count": 98,
   "metadata": {},
   "outputs": [
    {
     "data": {
      "text/plain": [
       "Matrix([[0, 0, 1, 1, 1], [0, 0, 1, 1, 1], [1, 1, 0, 0, 0], [1, 1, 0, 0, 0], [1, 1, 0, 0, 0]])"
      ]
     },
     "execution_count": 98,
     "metadata": {},
     "output_type": "execute_result"
    }
   ],
   "source": [
    "B2_3 = Graph.Full_Bipartite(2,3)\n",
    "B2_3.get_adjacency()"
   ]
  },
  {
   "cell_type": "markdown",
   "metadata": {},
   "source": [
    "5. S5: A 5-vertex star (one central \"hub\" node that connects to all the other \"spoke\" nodes)"
   ]
  },
  {
   "cell_type": "code",
   "execution_count": 99,
   "metadata": {},
   "outputs": [
    {
     "data": {
      "text/plain": [
       "Matrix([[0, 1, 1, 1, 1], [1, 0, 0, 0, 0], [1, 0, 0, 0, 0], [1, 0, 0, 0, 0], [1, 0, 0, 0, 0]])"
      ]
     },
     "execution_count": 99,
     "metadata": {},
     "output_type": "execute_result"
    }
   ],
   "source": [
    "S5 = Graph.Star(5)\n",
    "S5.get_adjacency()"
   ]
  },
  {
   "cell_type": "markdown",
   "metadata": {},
   "source": [
    "6. P5: A simple path of 5 vertices"
   ]
  },
  {
   "cell_type": "code",
   "execution_count": 100,
   "metadata": {},
   "outputs": [
    {
     "data": {
      "text/plain": [
       "Matrix([[0, 1, 0, 0, 0], [1, 0, 1, 0, 0], [0, 1, 0, 1, 0], [0, 0, 1, 0, 1], [0, 0, 0, 1, 0]])"
      ]
     },
     "execution_count": 100,
     "metadata": {},
     "output_type": "execute_result"
    }
   ],
   "source": [
    "P5 = Graph()\n",
    "P5.add_vertices(5)\n",
    "P5.add_edges([(0,1),(1,2),(2,3),(3,4)])\n",
    "P5.get_adjacency()"
   ]
  },
  {
   "cell_type": "markdown",
   "metadata": {},
   "source": [
    "**Exercise 2**: Generating the degree matrix D for a given adjacency matrix A. Write a script that generates a degree matrix for each of the adjacency matrices in Exercise 1. Note that the degree matrix is a diagonal matrix where all the positions except for the diagonal are zero's. The diagonal elements correspond to the degrees of the corresponding nodes, namely Dii = degree(v_i)."
   ]
  },
  {
   "cell_type": "code",
   "execution_count": 101,
   "metadata": {},
   "outputs": [],
   "source": [
    "def get_matrix_D(graph):\n",
    "    v = graph.vcount()\n",
    "    matrixD = np.zeros(shape=(v,v))\n",
    "    for i in range(v):\n",
    "        matrixD[i][i]=graph.degree(i)\n",
    "    return matrixD"
   ]
  },
  {
   "cell_type": "markdown",
   "metadata": {},
   "source": [
    "**Maxtrix D of K5:**"
   ]
  },
  {
   "cell_type": "code",
   "execution_count": 102,
   "metadata": {},
   "outputs": [
    {
     "data": {
      "text/plain": [
       "array([[4., 0., 0., 0., 0.],\n",
       "       [0., 4., 0., 0., 0.],\n",
       "       [0., 0., 4., 0., 0.],\n",
       "       [0., 0., 0., 4., 0.],\n",
       "       [0., 0., 0., 0., 4.]])"
      ]
     },
     "execution_count": 102,
     "metadata": {},
     "output_type": "execute_result"
    }
   ],
   "source": [
    "DK5 = get_matrix_D(K5)\n",
    "DK5"
   ]
  },
  {
   "cell_type": "markdown",
   "metadata": {},
   "source": [
    "**Maxtrix D of K5.3:**"
   ]
  },
  {
   "cell_type": "code",
   "execution_count": 103,
   "metadata": {},
   "outputs": [
    {
     "data": {
      "text/plain": [
       "array([[4., 0., 0., 0., 0., 0., 0., 0.],\n",
       "       [0., 4., 0., 0., 0., 0., 0., 0.],\n",
       "       [0., 0., 4., 0., 0., 0., 0., 0.],\n",
       "       [0., 0., 0., 4., 0., 0., 0., 0.],\n",
       "       [0., 0., 0., 0., 4., 0., 0., 0.],\n",
       "       [0., 0., 0., 0., 0., 2., 0., 0.],\n",
       "       [0., 0., 0., 0., 0., 0., 2., 0.],\n",
       "       [0., 0., 0., 0., 0., 0., 0., 2.]])"
      ]
     },
     "execution_count": 103,
     "metadata": {},
     "output_type": "execute_result"
    }
   ],
   "source": [
    "DK5_3 = get_matrix_D(K5_3)\n",
    "DK5_3"
   ]
  },
  {
   "cell_type": "markdown",
   "metadata": {},
   "source": [
    "**Maxtrix D of K5.3e:**"
   ]
  },
  {
   "cell_type": "code",
   "execution_count": 104,
   "metadata": {},
   "outputs": [
    {
     "data": {
      "text/plain": [
       "array([[4., 0., 0., 0., 0., 0., 0., 0.],\n",
       "       [0., 4., 0., 0., 0., 0., 0., 0.],\n",
       "       [0., 0., 4., 0., 0., 0., 0., 0.],\n",
       "       [0., 0., 0., 4., 0., 0., 0., 0.],\n",
       "       [0., 0., 0., 0., 5., 0., 0., 0.],\n",
       "       [0., 0., 0., 0., 0., 3., 0., 0.],\n",
       "       [0., 0., 0., 0., 0., 0., 2., 0.],\n",
       "       [0., 0., 0., 0., 0., 0., 0., 2.]])"
      ]
     },
     "execution_count": 104,
     "metadata": {},
     "output_type": "execute_result"
    }
   ],
   "source": [
    "DK5_3e = get_matrix_D(K5_3e)\n",
    "DK5_3e"
   ]
  },
  {
   "cell_type": "markdown",
   "metadata": {},
   "source": [
    "**Maxtrix D of B2.3:**"
   ]
  },
  {
   "cell_type": "code",
   "execution_count": 105,
   "metadata": {},
   "outputs": [
    {
     "data": {
      "text/plain": [
       "array([[3., 0., 0., 0., 0.],\n",
       "       [0., 3., 0., 0., 0.],\n",
       "       [0., 0., 2., 0., 0.],\n",
       "       [0., 0., 0., 2., 0.],\n",
       "       [0., 0., 0., 0., 2.]])"
      ]
     },
     "execution_count": 105,
     "metadata": {},
     "output_type": "execute_result"
    }
   ],
   "source": [
    "DB2_3 = get_matrix_D(B2_3)\n",
    "DB2_3"
   ]
  },
  {
   "cell_type": "markdown",
   "metadata": {},
   "source": [
    "**Maxtrix D of S5:**"
   ]
  },
  {
   "cell_type": "code",
   "execution_count": 106,
   "metadata": {},
   "outputs": [
    {
     "data": {
      "text/plain": [
       "array([[4., 0., 0., 0., 0.],\n",
       "       [0., 1., 0., 0., 0.],\n",
       "       [0., 0., 1., 0., 0.],\n",
       "       [0., 0., 0., 1., 0.],\n",
       "       [0., 0., 0., 0., 1.]])"
      ]
     },
     "execution_count": 106,
     "metadata": {},
     "output_type": "execute_result"
    }
   ],
   "source": [
    "DS5 = get_matrix_D(S5)\n",
    "DS5"
   ]
  },
  {
   "cell_type": "markdown",
   "metadata": {},
   "source": [
    "**Maxtrix D of P5:**"
   ]
  },
  {
   "cell_type": "code",
   "execution_count": 107,
   "metadata": {},
   "outputs": [
    {
     "data": {
      "text/plain": [
       "array([[1., 0., 0., 0., 0.],\n",
       "       [0., 2., 0., 0., 0.],\n",
       "       [0., 0., 2., 0., 0.],\n",
       "       [0., 0., 0., 2., 0.],\n",
       "       [0., 0., 0., 0., 1.]])"
      ]
     },
     "execution_count": 107,
     "metadata": {},
     "output_type": "execute_result"
    }
   ],
   "source": [
    "DP5 = get_matrix_D(P5)\n",
    "DP5"
   ]
  },
  {
   "cell_type": "markdown",
   "metadata": {},
   "source": [
    "**Exercise 3**: Generating the graph Laplacian matrix L for a given adjacency matrix A and its degree matrix D. Write a script that generates the graph Laplacian matrix L = D - A for each of the adjacency matrices in Exercise 1."
   ]
  },
  {
   "cell_type": "code",
   "execution_count": 108,
   "metadata": {},
   "outputs": [],
   "source": [
    "def get_matrix_L(graph):\n",
    "    return graph.laplacian()"
   ]
  },
  {
   "cell_type": "markdown",
   "metadata": {},
   "source": [
    "**Maxtrix L of K5:**"
   ]
  },
  {
   "cell_type": "code",
   "execution_count": 109,
   "metadata": {},
   "outputs": [
    {
     "data": {
      "text/plain": [
       "[[4, -1, -1, -1, -1],\n",
       " [-1, 4, -1, -1, -1],\n",
       " [-1, -1, 4, -1, -1],\n",
       " [-1, -1, -1, 4, -1],\n",
       " [-1, -1, -1, -1, 4]]"
      ]
     },
     "execution_count": 109,
     "metadata": {},
     "output_type": "execute_result"
    }
   ],
   "source": [
    "LK5 = get_matrix_L(K5)\n",
    "LK5"
   ]
  },
  {
   "cell_type": "markdown",
   "metadata": {},
   "source": [
    "**Maxtrix L of K5.3:**"
   ]
  },
  {
   "cell_type": "code",
   "execution_count": 110,
   "metadata": {},
   "outputs": [
    {
     "data": {
      "text/plain": [
       "[[4, -1, -1, -1, -1, 0, 0, 0],\n",
       " [-1, 4, -1, -1, -1, 0, 0, 0],\n",
       " [-1, -1, 4, -1, -1, 0, 0, 0],\n",
       " [-1, -1, -1, 4, -1, 0, 0, 0],\n",
       " [-1, -1, -1, -1, 4, 0, 0, 0],\n",
       " [0, 0, 0, 0, 0, 2, -1, -1],\n",
       " [0, 0, 0, 0, 0, -1, 2, -1],\n",
       " [0, 0, 0, 0, 0, -1, -1, 2]]"
      ]
     },
     "execution_count": 110,
     "metadata": {},
     "output_type": "execute_result"
    }
   ],
   "source": [
    "LK5_3 = get_matrix_L(K5_3)\n",
    "LK5_3"
   ]
  },
  {
   "cell_type": "markdown",
   "metadata": {},
   "source": [
    "**Maxtrix L of K5.3e:**"
   ]
  },
  {
   "cell_type": "code",
   "execution_count": 111,
   "metadata": {},
   "outputs": [
    {
     "data": {
      "text/plain": [
       "[[4, -1, -1, -1, -1, 0, 0, 0],\n",
       " [-1, 4, -1, -1, -1, 0, 0, 0],\n",
       " [-1, -1, 4, -1, -1, 0, 0, 0],\n",
       " [-1, -1, -1, 4, -1, 0, 0, 0],\n",
       " [-1, -1, -1, -1, 5, -1, 0, 0],\n",
       " [0, 0, 0, 0, -1, 3, -1, -1],\n",
       " [0, 0, 0, 0, 0, -1, 2, -1],\n",
       " [0, 0, 0, 0, 0, -1, -1, 2]]"
      ]
     },
     "execution_count": 111,
     "metadata": {},
     "output_type": "execute_result"
    }
   ],
   "source": [
    "LK5_3e = get_matrix_L(K5_3e)\n",
    "LK5_3e"
   ]
  },
  {
   "cell_type": "markdown",
   "metadata": {},
   "source": [
    "**Maxtrix L of B2.3:**"
   ]
  },
  {
   "cell_type": "code",
   "execution_count": 112,
   "metadata": {},
   "outputs": [
    {
     "data": {
      "text/plain": [
       "[[3, 0, -1, -1, -1],\n",
       " [0, 3, -1, -1, -1],\n",
       " [-1, -1, 2, 0, 0],\n",
       " [-1, -1, 0, 2, 0],\n",
       " [-1, -1, 0, 0, 2]]"
      ]
     },
     "execution_count": 112,
     "metadata": {},
     "output_type": "execute_result"
    }
   ],
   "source": [
    "LB2_3 = get_matrix_L(B2_3)\n",
    "LB2_3"
   ]
  },
  {
   "cell_type": "markdown",
   "metadata": {},
   "source": [
    "**Maxtrix L of S5:**"
   ]
  },
  {
   "cell_type": "code",
   "execution_count": 113,
   "metadata": {},
   "outputs": [
    {
     "data": {
      "text/plain": [
       "[[4, -1, -1, -1, -1],\n",
       " [-1, 1, 0, 0, 0],\n",
       " [-1, 0, 1, 0, 0],\n",
       " [-1, 0, 0, 1, 0],\n",
       " [-1, 0, 0, 0, 1]]"
      ]
     },
     "execution_count": 113,
     "metadata": {},
     "output_type": "execute_result"
    }
   ],
   "source": [
    "LS5 = get_matrix_L(S5)\n",
    "LS5"
   ]
  },
  {
   "cell_type": "markdown",
   "metadata": {},
   "source": [
    "**Maxtrix L of P5:**"
   ]
  },
  {
   "cell_type": "code",
   "execution_count": 114,
   "metadata": {},
   "outputs": [
    {
     "data": {
      "text/plain": [
       "[[1, -1, 0, 0, 0],\n",
       " [-1, 2, -1, 0, 0],\n",
       " [0, -1, 2, -1, 0],\n",
       " [0, 0, -1, 2, -1],\n",
       " [0, 0, 0, -1, 1]]"
      ]
     },
     "execution_count": 114,
     "metadata": {},
     "output_type": "execute_result"
    }
   ],
   "source": [
    "LP5 = get_matrix_L(P5)\n",
    "LP5"
   ]
  },
  {
   "cell_type": "markdown",
   "metadata": {},
   "source": [
    "1. Is L a sparse matrix?\n",
    "\n",
    "Ans: According to definitaion, when a matrix considered as a sparse matrix, the sparsity is greater than 0.5. Thus,L is not a sparse matrix in all case.\n",
    "2. In what positions does L have non-zero elements?\n",
    "\n",
    "Ans: connected vertices and diagonal.\n",
    "3. What are the values of the non-diagonal and non-zero elements?\n",
    "\n",
    "Ans: connected vertices.\n",
    "4. What does L contain along its diagonal?\n",
    "\n",
    "Ans: The degree of vetices."
   ]
  },
  {
   "cell_type": "markdown",
   "metadata": {},
   "source": [
    "**Exercise 4**: Generating the graph spectrum, or the multiset of the eigenvalues of the graph adjacency matrix A. Write a script that calculates the eigenvalues of the graph adjacency matrix for each of the matrices in Exercise 1. Plot the eigenvalues in the increasing order of their values"
   ]
  },
  {
   "cell_type": "code",
   "execution_count": 156,
   "metadata": {},
   "outputs": [],
   "source": [
    "def plt_eigenvalue(graph,title):\n",
    "    y = np.around(np.sort(np.linalg.eigvals(graph.get_adjacency().data)), decimials=3)\n",
    "    print (f'{title}: {y}')\n",
    "    plt.plot(y)\n",
    "    plt.ylabel(\"Eigenvalue\")\n",
    "    plt.title(title)\n",
    "    plt.show()"
   ]
  },
  {
   "cell_type": "code",
   "execution_count": 139,
   "metadata": {},
   "outputs": [
    {
     "name": "stdout",
     "output_type": "stream",
     "text": [
      "K5 Eigenvalues: [-1. -1. -1. -1.  4.]\n"
     ]
    },
    {
     "data": {
      "image/png": "[encoded data removed]",
      "text/plain": [
       "<Figure size 432x288 with 1 Axes>"
      ]
     },
     "metadata": {
      "needs_background": "light"
     },
     "output_type": "display_data"
    },
    {
     "name": "stdout",
     "output_type": "stream",
     "text": [
      "K5.3 Eigenvalues: [-1. -1. -1. -1. -1. -1.  2.  4.]\n"
     ]
    },
    {
     "data": {
      "image/png": "[encoded data removed]",
      "text/plain": [
       "<Figure size 432x288 with 1 Axes>"
      ]
     },
     "metadata": {
      "needs_background": "light"
     },
     "output_type": "display_data"
    },
    {
     "name": "stdout",
     "output_type": "stream",
     "text": [
      "K5.3e Eigenvalues: [-1.77987114 -1.         -1.         -1.         -1.         -0.33658584\n",
      "  2.05492255  4.06153444]\n"
     ]
    },
    {
     "data": {
      "image/png": "[encoded data removed]",
      "text/plain": [
       "<Figure size 432x288 with 1 Axes>"
      ]
     },
     "metadata": {
      "needs_background": "light"
     },
     "output_type": "display_data"
    },
    {
     "name": "stdout",
     "output_type": "stream",
     "text": [
      "B2.3 Eigenvalues: [-2.44948974e+00  0.00000000e+00  0.00000000e+00  2.08925759e-16\n",
      "  2.44948974e+00]\n"
     ]
    },
    {
     "data": {
      "image/png": "[encoded data removed]",
      "text/plain": [
       "<Figure size 432x288 with 1 Axes>"
      ]
     },
     "metadata": {
      "needs_background": "light"
     },
     "output_type": "display_data"
    },
    {
     "name": "stdout",
     "output_type": "stream",
     "text": [
      "S5 Eigenvalues: [-2.  0.  0.  0.  2.]\n"
     ]
    },
    {
     "data": {
      "image/png": "[encoded data removed]",
      "text/plain": [
       "<Figure size 432x288 with 1 Axes>"
      ]
     },
     "metadata": {
      "needs_background": "light"
     },
     "output_type": "display_data"
    },
    {
     "name": "stdout",
     "output_type": "stream",
     "text": [
      "P5 Eigenvalues: [-1.73205081e+00 -1.00000000e+00 -3.29824209e-17  1.00000000e+00\n",
      "  1.73205081e+00]\n"
     ]
    },
    {
     "data": {
      "image/png": "[encoded data removed]",
      "text/plain": [
       "<Figure size 432x288 with 1 Axes>"
      ]
     },
     "metadata": {
      "needs_background": "light"
     },
     "output_type": "display_data"
    }
   ],
   "source": [
    "plt_eigenvalue(K5,\"K5 Eigenvalues\")\n",
    "plt_eigenvalue(K5_3,\"K5.3 Eigenvalues\")\n",
    "plt_eigenvalue(K5_3e,\"K5.3e Eigenvalues\")\n",
    "plt_eigenvalue(B2_3,\"B2.3 Eigenvalues\")\n",
    "plt_eigenvalue(S5,\"S5 Eigenvalues\")\n",
    "plt_eigenvalue(P5,\"P5 Eigenvalues\")"
   ]
  },
  {
   "cell_type": "markdown",
   "metadata": {},
   "source": [
    "Answer the following questions:\n",
    "1. What can you say about the eigenvalues of the complete graph (K5): the number of unique eigenvalues, the largest and the smallest eigenvalues, the multiplicity (how many times the same eigenvalue appears) of each eigenvalue?\n",
    "2. What is the graph spectrum of the bi-partite graph, B2.3? If n1 = n and n2 = m (a general complete bi-partite graph), then what can you say about its graph spectrum? [Hint: check sqrt(n * m)] If \\lambda is the eigenvalue of the bi-partite graph, will minus \\lambda be also the eigenvalue?\n",
    "3. What is the largest eigenvalue of the star graph S5? If S5 were generalized to an N-vertex star, what could you say about the value of its largest eigenvalue?\n",
    "4. What is the largest eigenvalue of the path graph P5? As the length of the path increases, what can you say about the changes in the largest eigenvalue?\n",
    "5. How does the largest eigenvalue of the path P5 (or its more generalization to an arbitrary length) compare with the largest eigenvalues of the star graph or the complete graph? If you are asked to sort the largest eigenvalue of the path, the star, and the clique) in the increasing order, what kind of relationship would you assign (E.g., \\lambda{path} > or < than \\lambda{star})?\n"
   ]
  },
  {
   "cell_type": "markdown",
   "metadata": {},
   "source": [
    "*Put answers here*\n",
    "1. Number of unique eigenvalues: 2. The largest eigenvalue: 4. The smallest eigenvalue: -1. Multiplicity: 4: 1, -1: 4.\n",
    "2. Spectrum {-\\sqrt(6),0,+\\sqrt(6)}. Yes, the minus \\lambda will also the eigenvalue of a complete bipartite graph.\n",
    "3. The largest eigenvalue: 2. If S5 was generalized to an N-vertex star, the largest eigenvalue is \\sqrt(N-1)\n",
    "4. The largest eigenvalue: 1.73. As the length of the path increases, the largest eigenvalue increases.\n",
    "5. \\lambda{complete} > \\lambda{star} > \\lambda{path}"
   ]
  },
  {
   "cell_type": "code",
   "execution_count": 124,
   "metadata": {},
   "outputs": [
    {
     "name": "stdout",
     "output_type": "stream",
     "text": [
      "Star Graph:\n",
      "When n = 2, the eigenvalue is 1.0\n",
      "When n = 3, the eigenvalue is 1.414213562373095\n",
      "When n = 4, the eigenvalue is 1.732050807568877\n",
      "When n = 5, the eigenvalue is 2.0\n",
      "When n = 6, the eigenvalue is 2.2360679774997894\n",
      "When n = 7, the eigenvalue is 2.4494897427831788\n",
      "When n = 8, the eigenvalue is 2.6457513110645903\n",
      "When n = 9, the eigenvalue is 2.8284271247461907\n"
     ]
    }
   ],
   "source": [
    "# This part is for answering the subproblem in quesion 3,5.\n",
    "print (\"Star Graph:\")\n",
    "for i in range(2,10):\n",
    "    g = Graph.Star(i)\n",
    "    max_eigen = max(np.linalg.eigvals(g.get_adjacency().data))\n",
    "    print (f'When n = {i}, the eigenvalue is {max_eigen}')"
   ]
  },
  {
   "cell_type": "code",
   "execution_count": 122,
   "metadata": {},
   "outputs": [
    {
     "name": "stdout",
     "output_type": "stream",
     "text": [
      "Path Graph:\n",
      "When n = 2, the eigenvalue is 1.0\n",
      "When n = 3, the eigenvalue is 1.414213562373095\n",
      "When n = 4, the eigenvalue is 1.6180339887498942\n",
      "When n = 5, the eigenvalue is 1.7320508075688805\n",
      "When n = 6, the eigenvalue is 1.8019377358048398\n",
      "When n = 7, the eigenvalue is 1.847759065022573\n",
      "When n = 8, the eigenvalue is 1.879385241571817\n",
      "When n = 9, the eigenvalue is 1.9021130325903093\n"
     ]
    }
   ],
   "source": [
    "# This part is for answering the subproblem in quesion 4,5.\n",
    "print (\"Path Graph:\")\n",
    "for i in range(2,10):\n",
    "    g = Graph()\n",
    "    g.add_vertices(i)\n",
    "    for j in range(i-1):\n",
    "        g.add_edge(j,j+1)\n",
    "    max_eigen = max(np.linalg.eigvals(g.get_adjacency().data))\n",
    "    print (f'When n = {i}, the eigenvalue is {max_eigen}')"
   ]
  },
  {
   "cell_type": "code",
   "execution_count": 123,
   "metadata": {},
   "outputs": [
    {
     "name": "stdout",
     "output_type": "stream",
     "text": [
      "Complete Graph:\n",
      "When n = 2, the eigenvalue is 1.0\n",
      "When n = 3, the eigenvalue is 1.9999999999999996\n",
      "When n = 4, the eigenvalue is 3.0\n",
      "When n = 5, the eigenvalue is 4.0\n",
      "When n = 6, the eigenvalue is 5.0\n",
      "When n = 7, the eigenvalue is 6.000000000000003\n",
      "When n = 8, the eigenvalue is 7.0\n",
      "When n = 9, the eigenvalue is 7.999999999999999\n"
     ]
    }
   ],
   "source": [
    "# This part is for answering the subproblem in quesion 5.\n",
    "print (\"Complete Graph:\")\n",
    "for i in range(2,10):\n",
    "    g = Graph.Full(i)\n",
    "    max_eigen = max(np.linalg.eigvals(g.get_adjacency().data))\n",
    "    print (f'When n = {i}, the eigenvalue is {max_eigen}')"
   ]
  },
  {
   "cell_type": "markdown",
   "metadata": {},
   "source": [
    "**Exercise 5**: Generating the graph spectrum, or the multiset of the eigenvalues of the graph Laplacian. Write a script that calculates the eigenvalues of the graph Laplacian for each of the graphs in Exercise 1. Plot the eigenvalues in the increasing order of their values. "
   ]
  },
  {
   "cell_type": "code",
   "execution_count": 154,
   "metadata": {},
   "outputs": [],
   "source": [
    "def plt_L_eigenvalue(graph,title):\n",
    "    y = np.around(np.sort(np.linalg.eigvals(graph.laplacian())), decimals=3)\n",
    "    print (f'{title}: {y}')\n",
    "    plt.plot(y)\n",
    "    plt.ylabel(\"Eigenvalue\")\n",
    "    plt.title(title)\n",
    "    plt.show()"
   ]
  },
  {
   "cell_type": "code",
   "execution_count": 155,
   "metadata": {},
   "outputs": [
    {
     "name": "stdout",
     "output_type": "stream",
     "text": [
      "K5 Laplacian Eigenvalues: [0. 5. 5. 5. 5.]\n"
     ]
    },
    {
     "data": {
      "image/png": "[encoded data removed]",
      "text/plain": [
       "<Figure size 432x288 with 1 Axes>"
      ]
     },
     "metadata": {
      "needs_background": "light"
     },
     "output_type": "display_data"
    },
    {
     "name": "stdout",
     "output_type": "stream",
     "text": [
      "K5.3 Laplacian Eigenvalues: [-0.  0.  3.  3.  5.  5.  5.  5.]\n"
     ]
    },
    {
     "data": {
      "image/png": "[encoded data removed]",
      "text/plain": [
       "<Figure size 432x288 with 1 Axes>"
      ]
     },
     "metadata": {
      "needs_background": "light"
     },
     "output_type": "display_data"
    },
    {
     "name": "stdout",
     "output_type": "stream",
     "text": [
      "K5.3e Laplacian Eigenvalues: [-0.     0.374  3.     3.485  5.     5.     5.     6.141]\n"
     ]
    },
    {
     "data": {
      "image/png": "[encoded data removed]",
      "text/plain": [
       "<Figure size 432x288 with 1 Axes>"
      ]
     },
     "metadata": {
      "needs_background": "light"
     },
     "output_type": "display_data"
    },
    {
     "name": "stdout",
     "output_type": "stream",
     "text": [
      "B2.3 Laplacian Eigenvalues: [0. 2. 2. 3. 5.]\n"
     ]
    },
    {
     "data": {
      "image/png": "[encoded data removed]",
      "text/plain": [
       "<Figure size 432x288 with 1 Axes>"
      ]
     },
     "metadata": {
      "needs_background": "light"
     },
     "output_type": "display_data"
    },
    {
     "name": "stdout",
     "output_type": "stream",
     "text": [
      "S5 Laplacian Eigenvalues: [0. 1. 1. 1. 5.]\n"
     ]
    },
    {
     "data": {
      "image/png": "[encoded data removed]",
      "text/plain": [
       "<Figure size 432x288 with 1 Axes>"
      ]
     },
     "metadata": {
      "needs_background": "light"
     },
     "output_type": "display_data"
    },
    {
     "name": "stdout",
     "output_type": "stream",
     "text": [
      "P5 Laplacian Eigenvalues: [0.    0.382 1.382 2.618 3.618]\n"
     ]
    },
    {
     "data": {
      "image/png": "[encoded data removed]",
      "text/plain": [
       "<Figure size 432x288 with 1 Axes>"
      ]
     },
     "metadata": {
      "needs_background": "light"
     },
     "output_type": "display_data"
    }
   ],
   "source": [
    "plt_L_eigenvalue(K5,\"K5 Laplacian Eigenvalues\")\n",
    "plt_L_eigenvalue(K5_3,\"K5.3 Laplacian Eigenvalues\")\n",
    "plt_L_eigenvalue(K5_3e,\"K5.3e Laplacian Eigenvalues\")\n",
    "plt_L_eigenvalue(B2_3,\"B2.3 Laplacian Eigenvalues\")\n",
    "plt_L_eigenvalue(S5,\"S5 Laplacian Eigenvalues\")\n",
    "plt_L_eigenvalue(P5,\"P5 Laplacian Eigenvalues\")"
   ]
  },
  {
   "cell_type": "markdown",
   "metadata": {},
   "source": [
    "Answer the following questions:\n",
    "1. What can you say about the largest and the smallest eigenvalues?\n",
    "2. What is the multiplicity (how many times the same eigenvalue appears) of the zero eigenvalue for each of the cases?\n",
    "3. If K53 graph would be generalized to include c>2 components, what can you say about the multiplicity of the zero eigenvalues?\n",
    "4. If graph G is connected (i.e., the number of disconnected components is one), what can you say about the multiplicity of the zero eigenvalue?\n",
    "5. For the bi-partite graph, what is the value of the second smallest eigenvalue?\n",
    "6. Is the vector, whose components consist of 1's only, the eigenvector of the Laplacian? If it is, then what is its corresponding eigenvalue?\n",
    "7. Suppose the graph Laplacian matrix has the zero eigenvalue of multiplicity k. Can you say anything about the structure of such a graph?\n"
   ]
  },
  {
   "cell_type": "markdown",
   "metadata": {},
   "source": [
    "*Put answers here*\n",
    "1. The largest eigenvalues are corresponding to the number of vertices. The smallest eigenvalue is 0, which indicates the number of disconnected components.\n",
    "2. All the graph is 1 except K5.3, which is 2. The number of zero eigenvalue is corresponeding to the number of disconnected components\n",
    "3. As components increase, the multiplicity of the zero eigenvalues is equal to the number of components.\n",
    "4. As components increase, the multiplicity of the zero eigenvalues remains 1 because the multiplicity of the zero eigenvalue is correponeding the number of disconnected component. Thus, the connected graph will always 1.\n",
    "5. The second smallest eigenvalue is 2.\n",
    "6. Yes, the corresonding eigenvalue is 0. Reference: https://en.wikipedia.org/wiki/Laplacian_matrix\n",
    "7. The k can be represented the number of unconnected components as the result show in question 3. If k =1, the graph is connected as the result show in question 4."
   ]
  },
  {
   "cell_type": "code",
   "execution_count": 135,
   "metadata": {},
   "outputs": [
    {
     "name": "stdout",
     "output_type": "stream",
     "text": [
      "When c=2,  the multiplicity of the zero eigenvalues is 2\n",
      "When c=3,  the multiplicity of the zero eigenvalues is 3\n",
      "When c=4,  the multiplicity of the zero eigenvalues is 4\n",
      "When c=5,  the multiplicity of the zero eigenvalues is 5\n",
      "When c=6,  the multiplicity of the zero eigenvalues is 6\n",
      "When c=7,  the multiplicity of the zero eigenvalues is 7\n",
      "When c=8,  the multiplicity of the zero eigenvalues is 8\n",
      "When c=9,  the multiplicity of the zero eigenvalues is 9\n"
     ]
    }
   ],
   "source": [
    "# This part is for answering the subproblem in quesion 3.\n",
    "g = Graph.Full(5)\n",
    "for i in range(2,10):\n",
    "    g += Graph.Full(3)\n",
    "    number_of_0 = np.count_nonzero(np.around(np.linalg.eigvals(g.laplacian()), decimals=3) == 0)\n",
    "    print (f'When c={i},  the multiplicity of the zero eigenvalues is {number_of_0}')"
   ]
  },
  {
   "cell_type": "code",
   "execution_count": 136,
   "metadata": {},
   "outputs": [
    {
     "name": "stdout",
     "output_type": "stream",
     "text": [
      "When c=2,  the multiplicity of the zero eigenvalues is 1\n",
      "When c=3,  the multiplicity of the zero eigenvalues is 1\n",
      "When c=4,  the multiplicity of the zero eigenvalues is 1\n",
      "When c=5,  the multiplicity of the zero eigenvalues is 1\n",
      "When c=6,  the multiplicity of the zero eigenvalues is 1\n",
      "When c=7,  the multiplicity of the zero eigenvalues is 1\n",
      "When c=8,  the multiplicity of the zero eigenvalues is 1\n",
      "When c=9,  the multiplicity of the zero eigenvalues is 1\n"
     ]
    }
   ],
   "source": [
    "# This part is for answering the subproblem in quesion 4.\n",
    "for i in range(2,10):\n",
    "    g = Graph.Full(5)\n",
    "    number_of_0 = np.count_nonzero(np.around(np.linalg.eigvals(g.laplacian()), decimals=3) == 0)\n",
    "    print (f'When c={i},  the multiplicity of the zero eigenvalues is {number_of_0}')"
   ]
  }
 ],
 "metadata": {
  "kernelspec": {
   "display_name": "Python 3",
   "language": "python",
   "name": "python3"
  },
  "language_info": {
   "codemirror_mode": {
    "name": "ipython",
    "version": 3
   },
   "file_extension": ".py",
   "mimetype": "text/x-python",
   "name": "python",
   "nbconvert_exporter": "python",
   "pygments_lexer": "ipython3",
   "version": "3.7.3"
  }
 },
 "nbformat": 4,
 "nbformat_minor": 1
}
